{
 "cells": [
  {
   "cell_type": "markdown",
   "metadata": {},
   "source": [
    "# **Best Neighborhood in Pittsburgh**"
   ]
  },
  {
   "cell_type": "markdown",
   "metadata": {},
   "source": [
    "## Introduction"
   ]
  },
  {
   "cell_type": "markdown",
   "metadata": {},
   "source": [
    "The metric that we chose was the \"best\" neighborhood. We chose this because it would affect us all equally if we ever decided to live here past graduation. The metrics were \"Crime-Rate\", \"Test-Scores\", and \"Occupation-Equality\". Before I chose Occupation Equality, I had originally decided to look at distance from these neighborhoods from downtown Pittsburgh but found that the map I was planning to use would not work. I then decided that the equality between men and women working was important to me, which led to my decision for my current metric. Our final metric was decided by each metric having a top 20 and then cross referencing the neighborhood that lands the highest on each list. "
   ]
  },
  {
   "cell_type": "markdown",
   "metadata": {},
   "source": [
    "# The Metrics:"
   ]
  },
  {
   "cell_type": "markdown",
   "metadata": {},
   "source": [
    "## Crime by Neighborhood (Ruchira Nimmagadda)\n",
    "---"
   ]
  },
  {
   "cell_type": "markdown",
   "metadata": {},
   "source": [
    "Crime, as in safety, is often a large factor affecting many other things in the ecosystem of a neighborhood. Crime rates give lots of insight into the overall quality of life in a neighborhood. To determine the *best* neighborhood in Pittsburgh, you must also determine the safest. Here, we have a data set detailing the incidents reported by the City of Pittsburgh Police during the past seven years. "
   ]
  },
  {
   "cell_type": "markdown",
   "metadata": {},
   "source": [
    "**Let's breakdown this data!**\n",
    "\n",
    "Each entry in this data set is an incident. Let's see how many incidents have occured in each neighborhood and sort that list from least to greatest. "
   ]
  },
  {
   "cell_type": "code",
   "execution_count": 1,
   "metadata": {},
   "outputs": [
    {
     "data": {
      "text/plain": [
       "Mt. Oliver Boro                14.000000\n",
       "Mt. Oliver Neighborhood        16.714286\n",
       "Outside County                 34.571429\n",
       "Troy Hill-Herrs Island         36.000000\n",
       "Ridgemont                      41.714286\n",
       "                                ...     \n",
       "Bloomfield                   1217.142857\n",
       "Shadyside                    1219.571429\n",
       "Carrick                      1662.428571\n",
       "South Side Flats             2657.714286\n",
       "Central Business District    2751.142857\n",
       "Name: INCIDENTNEIGHBORHOOD, Length: 98, dtype: float64"
      ]
     },
     "execution_count": 1,
     "metadata": {},
     "output_type": "execute_result"
    }
   ],
   "source": [
    "import pandas as pd\n",
    "\n",
    "# Original data from csv\n",
    "raw_data = pd.read_csv(\"crime.csv\",  index_col=\"_id\")\n",
    "\n",
    "# Removing all of the columns with unnecessary information\n",
    "data = raw_data.drop(columns=['X', 'Y', 'INCIDENTTIME', 'PUBLIC_WORKS_DIVISION', 'HIERARCHY', 'COUNCIL_DISTRICT', 'INCIDENTTRACT', 'OFFENSES', 'INCIDENTZONE', 'INCIDENTLOCATION', 'CLEAREDFLAG', 'INCIDENTHIERARCHYDESC', 'CCR', 'PK'])\n",
    "data.head(10)\n",
    "\n",
    "# Getting the number of incident entries with each neighborhood, sorting that list from least to greatest\n",
    "incident_count = data['INCIDENTNEIGHBORHOOD'].value_counts().sort_values(ascending=True)\n",
    "\n",
    "#Changing the value to be incidents per year instead of incidents per seven years\n",
    "per_year = incident_count/7 \n",
    "per_year"
   ]
  },
  {
   "cell_type": "code",
   "execution_count": 2,
   "metadata": {},
   "outputs": [
    {
     "data": {
      "image/png": "[encoded data removed]",
      "text/plain": [
       "<Figure size 1080x720 with 1 Axes>"
      ]
     },
     "metadata": {
      "needs_background": "light"
     },
     "output_type": "display_data"
    }
   ],
   "source": [
    "# Bar graph of the 20 neighborhoods with the lowest incidents per year \n",
    "incidents_graph = per_year.head(20).plot.bar(x='INCIDENTNEIGHBORHOOD', y=per_year, figsize=(15,10))"
   ]
  },
  {
   "cell_type": "markdown",
   "metadata": {},
   "source": [
    "Pennsylvania has 2,559 towns/neighborhoods and on average 247,190 crimes per year in total, meaning that the average number of crimes per neighborhood would be:"
   ]
  },
  {
   "cell_type": "code",
   "execution_count": 3,
   "metadata": {},
   "outputs": [
    {
     "data": {
      "text/plain": [
       "96.59632669011333"
      ]
     },
     "execution_count": 3,
     "metadata": {},
     "output_type": "execute_result"
    }
   ],
   "source": [
    "247190/2559 "
   ]
  },
  {
   "cell_type": "code",
   "execution_count": 4,
   "metadata": {},
   "outputs": [
    {
     "data": {
      "text/plain": [
       "Mt. Oliver Boro             14.000000\n",
       "Mt. Oliver Neighborhood     16.714286\n",
       "Outside County              34.571429\n",
       "Troy Hill-Herrs Island      36.000000\n",
       "Ridgemont                   41.714286\n",
       "Chartiers City              46.857143\n",
       "New Homestead               48.857143\n",
       "Outside State               54.571429\n",
       "East Carnegie               56.857143\n",
       "Swisshelm Park              61.285714\n",
       "Summer Hill                 73.428571\n",
       "Mount Oliver                74.857143\n",
       "Regent Square               78.857143\n",
       "Hays                        79.571429\n",
       "Arlington Heights           80.142857\n",
       "Oakwood                     87.571429\n",
       "St. Clair                   93.142857\n",
       "Esplen                      98.857143\n",
       "Glen Hazel                 109.142857\n",
       "Central Northside          112.285714\n",
       "Name: INCIDENTNEIGHBORHOOD, dtype: float64"
      ]
     },
     "execution_count": 4,
     "metadata": {},
     "output_type": "execute_result"
    }
   ],
   "source": [
    "# List of the 20 neighborhoods with the lowest incidents per year \n",
    "per_year.head(20)"
   ]
  },
  {
   "cell_type": "markdown",
   "metadata": {},
   "source": [
    "<br> Since we sorted this list in ascending order, its first 20 values will be the neighborhoods with the smallest amount of incidents per year. Most of these values are less than the state average of 97 crimes per year. "
   ]
  },
  {
   "cell_type": "markdown",
   "metadata": {},
   "source": [
    "In conclusion, we can determine that the Top 5 \"safest\" neighborhoods are Mt. Oliver Boro, Mt. Oliver Neighborhood, Outside County, Troy Hill-Herrs Island, and Ridgemont. Their incidents per year are the lowest out of all of the Pittsburgh neighborhoods in this data set, and are also the lowest compared to the Pennsylvania average crimes per year. "
   ]
  },
  {
   "cell_type": "markdown",
   "metadata": {},
   "source": [
    "## Education By Neighborhood (Anandhi Narayan)\n",
    "---\n",
    "Often times a neighborhood or area can be judged based upon the enrollement and performance of the students attending the local schools. The amount of individualized Learning Plans, or IEPs, often help show the accomodation level of a school - which often times acts as a reflection of the quality of the neighborhood where the students live. The more accommodating a school is, the better the neighborhood is. \n",
    "\n",
    "We will be using the IEP by Neighborhood 2020-21 school year reported by Pittsburgh Public Schools."
   ]
  },
  {
   "cell_type": "code",
   "execution_count": 5,
   "metadata": {},
   "outputs": [
    {
     "data": {
      "text/plain": [
       "neighborhoods\n",
       "Point Breeze                                                               42.156863\n",
       "Squirrel Hill South, Regent Square, Swisshelm Park                         41.411451\n",
       "Squirrel Hill North                                                        39.024390\n",
       "South Side Flats                                                           35.779817\n",
       "Central, Upper Lawrenceville                                               34.468085\n",
       "South Side Slopes                                                          34.463277\n",
       "Hazelwood, Glen Hazel                                                      33.858268\n",
       "West End, Elliott                                                          33.606557\n",
       "Highland Park                                                              33.507853\n",
       "Sheraden                                                                   32.704403\n",
       "Point Breeze North                                                         32.558140\n",
       "Chartiers City, Esplen, Fairywood, Windgap                                 32.500000\n",
       "Knoxville, Bon Air                                                         32.262997\n",
       "Bloomfield, Friendship                                                     31.958763\n",
       "Duquesne Heights, Mount Washington                                         31.211499\n",
       "Mt. Oliver Borough, Mt. Oliver, Arlington, Arlington Heights, St. Clair    30.899609\n",
       "Allentown, Beltzhoover                                                     30.812854\n",
       "Greenfield                                                                 30.573248\n",
       "Perry South, Fineview                                                      30.260521\n",
       "Brighton Heights                                                           29.858657\n",
       "dtype: float64"
      ]
     },
     "execution_count": 5,
     "metadata": {},
     "output_type": "execute_result"
    }
   ],
   "source": [
    "import pandas as pd\n",
    "\n",
    "#The Original Data\n",
    "original_data = pd.read_csv(\"neighborhood_iep.csv\",index_col=\"neighborhoods\")\n",
    "\n",
    "#Totals: Enrolment AND IEPs\n",
    "total_enrolment = original_data.drop(columns=['gifted','other_iep', 'not_iep_or_gifted'])\n",
    "total_ieps = ((original_data['gifted'] + original_data['other_iep']))\n",
    "\n",
    "#Calculating and Creating a Data Frame of percentage of the student body that has an IEP + Sorting it\n",
    "percentage_df = total_ieps/total_enrolment['total_enrollment_k_12'] *100\n",
    "sorted_percentages = percentage_df.sort_values(ascending=False)\n",
    "\n",
    "#Print Data Frame\n",
    "sorted_percentages.head(20)"
   ]
  },
  {
   "cell_type": "code",
   "execution_count": 6,
   "metadata": {},
   "outputs": [
    {
     "data": {
      "image/png": "[encoded data removed]",
      "text/plain": [
       "<Figure size 1080x720 with 1 Axes>"
      ]
     },
     "metadata": {
      "needs_background": "light"
     },
     "output_type": "display_data"
    }
   ],
   "source": [
    "# Bar Graph of 20\n",
    "percentage = sorted_percentages.head(20).plot.bar(x='neighborhoods', y=sorted_percentages, figsize=(15, 10))"
   ]
  },
  {
   "cell_type": "markdown",
   "metadata": {},
   "source": [
    "Looking at all this data, we can come to the conclusion that the best Neighborhood in regards to Education/Educational Flexability is Point Breeze. "
   ]
  },
  {
   "cell_type": "markdown",
   "metadata": {},
   "source": [
    "## Gender Occupation by Neighborhood (Pearl Singer)\n",
    "---"
   ]
  },
  {
   "cell_type": "code",
   "execution_count": 7,
   "metadata": {},
   "outputs": [],
   "source": [
    "import pandas as pd\n",
    "import geopandas\n",
    "\n",
    "data = pd.read_csv(\"Gender_occupation.csv\")"
   ]
  },
  {
   "cell_type": "markdown",
   "metadata": {},
   "source": [
    "Let's get rid of all the data for a second and just focus on the first 20 neighborhoods that this data was collected from and the Estimate Totals"
   ]
  },
  {
   "cell_type": "code",
   "execution_count": 8,
   "metadata": {
    "tags": [
     "{",
     "\"tags\":",
     "[",
     "\"hide-input\"",
     "]",
     "}"
    ]
   },
   "outputs": [
    {
     "data": {
      "text/html": [
       "<div>\n",
       "<style scoped>\n",
       "    .dataframe tbody tr th:only-of-type {\n",
       "        vertical-align: middle;\n",
       "    }\n",
       "\n",
       "    .dataframe tbody tr th {\n",
       "        vertical-align: top;\n",
       "    }\n",
       "\n",
       "    .dataframe thead th {\n",
       "        text-align: right;\n",
       "    }\n",
       "</style>\n",
       "<table border=\"1\" class=\"dataframe\">\n",
       "  <thead>\n",
       "    <tr style=\"text-align: right;\">\n",
       "      <th></th>\n",
       "      <th>Neighborhood</th>\n",
       "      <th>Estimate; Total:</th>\n",
       "    </tr>\n",
       "  </thead>\n",
       "  <tbody>\n",
       "    <tr>\n",
       "      <th>0</th>\n",
       "      <td>Allegheny Center</td>\n",
       "      <td>579.0</td>\n",
       "    </tr>\n",
       "    <tr>\n",
       "      <th>1</th>\n",
       "      <td>Allegheny West</td>\n",
       "      <td>221.0</td>\n",
       "    </tr>\n",
       "    <tr>\n",
       "      <th>2</th>\n",
       "      <td>Allentown</td>\n",
       "      <td>841.0</td>\n",
       "    </tr>\n",
       "    <tr>\n",
       "      <th>3</th>\n",
       "      <td>Arlington</td>\n",
       "      <td>991.0</td>\n",
       "    </tr>\n",
       "    <tr>\n",
       "      <th>4</th>\n",
       "      <td>Arlington Heights</td>\n",
       "      <td>80.0</td>\n",
       "    </tr>\n",
       "    <tr>\n",
       "      <th>5</th>\n",
       "      <td>Banksville</td>\n",
       "      <td>2409.0</td>\n",
       "    </tr>\n",
       "    <tr>\n",
       "      <th>6</th>\n",
       "      <td>Bedford Dwellings</td>\n",
       "      <td>248.0</td>\n",
       "    </tr>\n",
       "    <tr>\n",
       "      <th>7</th>\n",
       "      <td>Beechview</td>\n",
       "      <td>4046.0</td>\n",
       "    </tr>\n",
       "    <tr>\n",
       "      <th>8</th>\n",
       "      <td>Beltzhoover</td>\n",
       "      <td>866.0</td>\n",
       "    </tr>\n",
       "    <tr>\n",
       "      <th>9</th>\n",
       "      <td>Bloomfield</td>\n",
       "      <td>5484.0</td>\n",
       "    </tr>\n",
       "    <tr>\n",
       "      <th>10</th>\n",
       "      <td>Bluff</td>\n",
       "      <td>1690.0</td>\n",
       "    </tr>\n",
       "    <tr>\n",
       "      <th>11</th>\n",
       "      <td>Bon Air</td>\n",
       "      <td>496.0</td>\n",
       "    </tr>\n",
       "    <tr>\n",
       "      <th>12</th>\n",
       "      <td>Brighton Heights</td>\n",
       "      <td>3805.0</td>\n",
       "    </tr>\n",
       "    <tr>\n",
       "      <th>13</th>\n",
       "      <td>Brookline</td>\n",
       "      <td>6937.0</td>\n",
       "    </tr>\n",
       "    <tr>\n",
       "      <th>14</th>\n",
       "      <td>California-Kirkbride</td>\n",
       "      <td>194.0</td>\n",
       "    </tr>\n",
       "    <tr>\n",
       "      <th>15</th>\n",
       "      <td>Carrick</td>\n",
       "      <td>4443.0</td>\n",
       "    </tr>\n",
       "    <tr>\n",
       "      <th>16</th>\n",
       "      <td>Central Business District</td>\n",
       "      <td>2186.0</td>\n",
       "    </tr>\n",
       "    <tr>\n",
       "      <th>17</th>\n",
       "      <td>Central Lawrenceville</td>\n",
       "      <td>2708.0</td>\n",
       "    </tr>\n",
       "    <tr>\n",
       "      <th>18</th>\n",
       "      <td>Central Northside</td>\n",
       "      <td>1523.0</td>\n",
       "    </tr>\n",
       "    <tr>\n",
       "      <th>19</th>\n",
       "      <td>Central Oakland</td>\n",
       "      <td>2974.0</td>\n",
       "    </tr>\n",
       "  </tbody>\n",
       "</table>\n",
       "</div>"
      ],
      "text/plain": [
       "                 Neighborhood  Estimate; Total:\n",
       "0            Allegheny Center             579.0\n",
       "1              Allegheny West             221.0\n",
       "2                   Allentown             841.0\n",
       "3                   Arlington             991.0\n",
       "4           Arlington Heights              80.0\n",
       "5                  Banksville            2409.0\n",
       "6           Bedford Dwellings             248.0\n",
       "7                   Beechview            4046.0\n",
       "8                 Beltzhoover             866.0\n",
       "9                  Bloomfield            5484.0\n",
       "10                      Bluff            1690.0\n",
       "11                    Bon Air             496.0\n",
       "12           Brighton Heights            3805.0\n",
       "13                  Brookline            6937.0\n",
       "14       California-Kirkbride             194.0\n",
       "15                    Carrick            4443.0\n",
       "16  Central Business District            2186.0\n",
       "17      Central Lawrenceville            2708.0\n",
       "18          Central Northside            1523.0\n",
       "19            Central Oakland            2974.0"
      ]
     },
     "execution_count": 8,
     "metadata": {},
     "output_type": "execute_result"
    }
   ],
   "source": [
    "neighborhood_EstimateTotal = data.drop(columns=['Id',\n",
    " 'Margin of Error; Total:',\n",
    " 'Estimate; Male:',\n",
    " 'Margin of Error; Male:',\n",
    " 'Estimate; Male: - Management, business, science, and arts occupations:',\n",
    " 'Margin of Error; Male: - Management, business, science, and arts occupations:',\n",
    " 'Estimate; Male: - Management, business, science, and arts occupations: - Management, business, and financial occupations:',\n",
    " 'Margin of Error; Male: - Management, business, science, and arts occupations: - Management, business, and financial occupations:',\n",
    " 'Estimate; Male: - Management, business, science, and arts occupations: - Management, business, and financial occupations: - Management occupations',\n",
    " 'Margin of Error; Male: - Management, business, science, and arts occupations: - Management, business, and financial occupations: - Management occupations',\n",
    " 'Estimate; Male: - Management, business, science, and arts occupations: - Management, business, and financial occupations: - Business and financial operations occupations',\n",
    " 'Margin of Error; Male: - Management, business, science, and arts occupations: - Management, business, and financial occupations: - Business and financial operations occupations',\n",
    " 'Estimate; Male: - Management, business, science, and arts occupations: - Computer, engineering, and science occupations:',\n",
    " 'Margin of Error; Male: - Management, business, science, and arts occupations: - Computer, engineering, and science occupations:',\n",
    " 'Estimate; Male: - Management, business, science, and arts occupations: - Computer, engineering, and science occupations: - Computer and mathematical occupations',\n",
    " 'Margin of Error; Male: - Management, business, science, and arts occupations: - Computer, engineering, and science occupations: - Computer and mathematical occupations',\n",
    " 'Estimate; Male: - Management, business, science, and arts occupations: - Computer, engineering, and science occupations: - Architecture and engineering occupations',\n",
    " 'Margin of Error; Male: - Management, business, science, and arts occupations: - Computer, engineering, and science occupations: - Architecture and engineering occupations',\n",
    " 'Estimate; Male: - Management, business, science, and arts occupations: - Computer, engineering, and science occupations: - Life, physical, and social science occupations',\n",
    " 'Margin of Error; Male: - Management, business, science, and arts occupations: - Computer, engineering, and science occupations: - Life, physical, and social science occupations',\n",
    " 'Estimate; Male: - Management, business, science, and arts occupations: - Education, legal, community service, arts, and media occupations:',\n",
    " 'Margin of Error; Male: - Management, business, science, and arts occupations: - Education, legal, community service, arts, and media occupations:',\n",
    " 'Estimate; Male: - Management, business, science, and arts occupations: - Education, legal, community service, arts, and media occupations: - Community and social service occupations',\n",
    " 'Margin of Error; Male: - Management, business, science, and arts occupations: - Education, legal, community service, arts, and media occupations: - Community and social service occupations',\n",
    " 'Estimate; Male: - Management, business, science, and arts occupations: - Education, legal, community service, arts, and media occupations: - Legal occupations',\n",
    " 'Margin of Error; Male: - Management, business, science, and arts occupations: - Education, legal, community service, arts, and media occupations: - Legal occupations',\n",
    " 'Estimate; Male: - Management, business, science, and arts occupations: - Education, legal, community service, arts, and media occupations: - Education, training, and library occupations',\n",
    " 'Margin of Error; Male: - Management, business, science, and arts occupations: - Education, legal, community service, arts, and media occupations: - Education, training, and library occupations',\n",
    " 'Estimate; Male: - Management, business, science, and arts occupations: - Education, legal, community service, arts, and media occupations: - Arts, design, entertainment, sports, and media occupations',\n",
    " 'Margin of Error; Male: - Management, business, science, and arts occupations: - Education, legal, community service, arts, and media occupations: - Arts, design, entertainment, sports, and media occupations',\n",
    " 'Estimate; Male: - Management, business, science, and arts occupations: - Healthcare practitioners and technical occupations:',\n",
    " 'Margin of Error; Male: - Management, business, science, and arts occupations: - Healthcare practitioners and technical occupations:',\n",
    " 'Estimate; Male: - Management, business, science, and arts occupations: - Healthcare practitioners and technical occupations: - Health diagnosing and treating practitioners and other technical occupations',\n",
    " 'Margin of Error; Male: - Management, business, science, and arts occupations: - Healthcare practitioners and technical occupations: - Health diagnosing and treating practitioners and other technical occupations',\n",
    " 'Estimate; Male: - Management, business, science, and arts occupations: - Healthcare practitioners and technical occupations: - Health technologists and technicians',\n",
    " 'Margin of Error; Male: - Management, business, science, and arts occupations: - Healthcare practitioners and technical occupations: - Health technologists and technicians',\n",
    " 'Estimate; Male: - Service occupations:',\n",
    " 'Margin of Error; Male: - Service occupations:',\n",
    " 'Estimate; Male: - Service occupations: - Healthcare support occupations',\n",
    " 'Margin of Error; Male: - Service occupations: - Healthcare support occupations',\n",
    " 'Estimate; Male: - Service occupations: - Protective service occupations:',\n",
    " 'Margin of Error; Male: - Service occupations: - Protective service occupations:',\n",
    " 'Estimate; Male: - Service occupations: - Protective service occupations: - Fire fighting and prevention, and other protective service workers including supervisors',\n",
    " 'Margin of Error; Male: - Service occupations: - Protective service occupations: - Fire fighting and prevention, and other protective service workers including supervisors',\n",
    " 'Estimate; Male: - Service occupations: - Protective service occupations: - Law enforcement workers including supervisors',\n",
    " 'Margin of Error; Male: - Service occupations: - Protective service occupations: - Law enforcement workers including supervisors',\n",
    " 'Estimate; Male: - Service occupations: - Food preparation and serving related occupations',\n",
    " 'Margin of Error; Male: - Service occupations: - Food preparation and serving related occupations',\n",
    " 'Estimate; Male: - Service occupations: - Building and grounds cleaning and maintenance occupations',\n",
    " 'Margin of Error; Male: - Service occupations: - Building and grounds cleaning and maintenance occupations',\n",
    " 'Estimate; Male: - Service occupations: - Personal care and service occupations',\n",
    " 'Margin of Error; Male: - Service occupations: - Personal care and service occupations',\n",
    " 'Estimate; Male: - Sales and office occupations:',\n",
    " 'Margin of Error; Male: - Sales and office occupations:',\n",
    " 'Estimate; Male: - Sales and office occupations: - Sales and related occupations',\n",
    " 'Margin of Error; Male: - Sales and office occupations: - Sales and related occupations',\n",
    " 'Estimate; Male: - Sales and office occupations: - Office and administrative support occupations',\n",
    " 'Margin of Error; Male: - Sales and office occupations: - Office and administrative support occupations',\n",
    " 'Estimate; Male: - Natural resources, construction, and maintenance occupations:',\n",
    " 'Margin of Error; Male: - Natural resources, construction, and maintenance occupations:',\n",
    " 'Estimate; Male: - Natural resources, construction, and maintenance occupations: - Farming, fishing, and forestry occupations',\n",
    " 'Margin of Error; Male: - Natural resources, construction, and maintenance occupations: - Farming, fishing, and forestry occupations',\n",
    " 'Estimate; Male: - Natural resources, construction, and maintenance occupations: - Construction and extraction occupations',\n",
    " 'Margin of Error; Male: - Natural resources, construction, and maintenance occupations: - Construction and extraction occupations',\n",
    " 'Estimate; Male: - Natural resources, construction, and maintenance occupations: - Installation, maintenance, and repair occupations',\n",
    " 'Margin of Error; Male: - Natural resources, construction, and maintenance occupations: - Installation, maintenance, and repair occupations',\n",
    " 'Estimate; Male: - Production, transportation, and material moving occupations:',\n",
    " 'Margin of Error; Male: - Production, transportation, and material moving occupations:',\n",
    " 'Estimate; Male: - Production, transportation, and material moving occupations: - Production occupations',\n",
    " 'Margin of Error; Male: - Production, transportation, and material moving occupations: - Production occupations',\n",
    " 'Estimate; Male: - Production, transportation, and material moving occupations: - Transportation occupations',\n",
    " 'Margin of Error; Male: - Production, transportation, and material moving occupations: - Transportation occupations',\n",
    " 'Estimate; Male: - Production, transportation, and material moving occupations: - Material moving occupations',\n",
    " 'Margin of Error; Male: - Production, transportation, and material moving occupations: - Material moving occupations',\n",
    " 'Estimate; Female:',\n",
    " 'Margin of Error; Female:',\n",
    " 'Estimate; Female: - Management, business, science, and arts occupations:',\n",
    " 'Margin of Error; Female: - Management, business, science, and arts occupations:',\n",
    " 'Estimate; Female: - Management, business, science, and arts occupations: - Management, business, and financial occupations:',\n",
    " 'Margin of Error; Female: - Management, business, science, and arts occupations: - Management, business, and financial occupations:',\n",
    " 'Estimate; Female: - Management, business, science, and arts occupations: - Management, business, and financial occupations: - Management occupations',\n",
    " 'Margin of Error; Female: - Management, business, science, and arts occupations: - Management, business, and financial occupations: - Management occupations',\n",
    " 'Estimate; Female: - Management, business, science, and arts occupations: - Management, business, and financial occupations: - Business and financial operations occupations',\n",
    " 'Margin of Error; Female: - Management, business, science, and arts occupations: - Management, business, and financial occupations: - Business and financial operations occupations',\n",
    " 'Estimate; Female: - Management, business, science, and arts occupations: - Computer, engineering, and science occupations:',\n",
    " 'Margin of Error; Female: - Management, business, science, and arts occupations: - Computer, engineering, and science occupations:',\n",
    " 'Estimate; Female: - Management, business, science, and arts occupations: - Computer, engineering, and science occupations: - Computer and mathematical occupations',\n",
    " 'Margin of Error; Female: - Management, business, science, and arts occupations: - Computer, engineering, and science occupations: - Computer and mathematical occupations',\n",
    " 'Estimate; Female: - Management, business, science, and arts occupations: - Computer, engineering, and science occupations: - Architecture and engineering occupations',\n",
    " 'Margin of Error; Female: - Management, business, science, and arts occupations: - Computer, engineering, and science occupations: - Architecture and engineering occupations',\n",
    " 'Estimate; Female: - Management, business, science, and arts occupations: - Computer, engineering, and science occupations: - Life, physical, and social science occupations',\n",
    " 'Margin of Error; Female: - Management, business, science, and arts occupations: - Computer, engineering, and science occupations: - Life, physical, and social science occupations',\n",
    " 'Estimate; Female: - Management, business, science, and arts occupations: - Education, legal, community service, arts, and media occupations:',\n",
    " 'Margin of Error; Female: - Management, business, science, and arts occupations: - Education, legal, community service, arts, and media occupations:',\n",
    " 'Estimate; Female: - Management, business, science, and arts occupations: - Education, legal, community service, arts, and media occupations: - Community and social service occupations',\n",
    " 'Margin of Error; Female: - Management, business, science, and arts occupations: - Education, legal, community service, arts, and media occupations: - Community and social service occupations',\n",
    " 'Estimate; Female: - Management, business, science, and arts occupations: - Education, legal, community service, arts, and media occupations: - Legal occupations',\n",
    " 'Margin of Error; Female: - Management, business, science, and arts occupations: - Education, legal, community service, arts, and media occupations: - Legal occupations',\n",
    " 'Estimate; Female: - Management, business, science, and arts occupations: - Education, legal, community service, arts, and media occupations: - Education, training, and library occupations',\n",
    " 'Margin of Error; Female: - Management, business, science, and arts occupations: - Education, legal, community service, arts, and media occupations: - Education, training, and library occupations',\n",
    " 'Estimate; Female: - Management, business, science, and arts occupations: - Education, legal, community service, arts, and media occupations: - Arts, design, entertainment, sports, and media occupations',\n",
    " 'Margin of Error; Female: - Management, business, science, and arts occupations: - Education, legal, community service, arts, and media occupations: - Arts, design, entertainment, sports, and media occupations',\n",
    " 'Estimate; Female: - Management, business, science, and arts occupations: - Healthcare practitioners and technical occupations:',\n",
    " 'Margin of Error; Female: - Management, business, science, and arts occupations: - Healthcare practitioners and technical occupations:',\n",
    " 'Estimate; Female: - Management, business, science, and arts occupations: - Healthcare practitioners and technical occupations: - Health diagnosing and treating practitioners and other technical occupations',\n",
    " 'Margin of Error; Female: - Management, business, science, and arts occupations: - Healthcare practitioners and technical occupations: - Health diagnosing and treating practitioners and other technical occupations',\n",
    " 'Estimate; Female: - Management, business, science, and arts occupations: - Healthcare practitioners and technical occupations: - Health technologists and technicians',\n",
    " 'Margin of Error; Female: - Management, business, science, and arts occupations: - Healthcare practitioners and technical occupations: - Health technologists and technicians',\n",
    " 'Estimate; Female: - Service occupations:',\n",
    " 'Margin of Error; Female: - Service occupations:',\n",
    " 'Estimate; Female: - Service occupations: - Healthcare support occupations',\n",
    " 'Margin of Error; Female: - Service occupations: - Healthcare support occupations',\n",
    " 'Estimate; Female: - Service occupations: - Protective service occupations:',\n",
    " 'Margin of Error; Female: - Service occupations: - Protective service occupations:',\n",
    " 'Estimate; Female: - Service occupations: - Protective service occupations: - Fire fighting and prevention, and other protective service workers including supervisors',\n",
    " 'Margin of Error; Female: - Service occupations: - Protective service occupations: - Fire fighting and prevention, and other protective service workers including supervisors',\n",
    " 'Estimate; Female: - Service occupations: - Protective service occupations: - Law enforcement workers including supervisors',\n",
    " 'Margin of Error; Female: - Service occupations: - Protective service occupations: - Law enforcement workers including supervisors',\n",
    " 'Estimate; Female: - Service occupations: - Food preparation and serving related occupations',\n",
    " 'Margin of Error; Female: - Service occupations: - Food preparation and serving related occupations',\n",
    " 'Estimate; Female: - Service occupations: - Building and grounds cleaning and maintenance occupations',\n",
    " 'Margin of Error; Female: - Service occupations: - Building and grounds cleaning and maintenance occupations',\n",
    " 'Estimate; Female: - Service occupations: - Personal care and service occupations',\n",
    " 'Margin of Error; Female: - Service occupations: - Personal care and service occupations',\n",
    " 'Estimate; Female: - Sales and office occupations:',\n",
    " 'Margin of Error; Female: - Sales and office occupations:',\n",
    " 'Estimate; Female: - Sales and office occupations: - Sales and related occupations',\n",
    " 'Margin of Error; Female: - Sales and office occupations: - Sales and related occupations',\n",
    " 'Estimate; Female: - Sales and office occupations: - Office and administrative support occupations',\n",
    " 'Margin of Error; Female: - Sales and office occupations: - Office and administrative support occupations',\n",
    " 'Estimate; Female: - Natural resources, construction, and maintenance occupations:',\n",
    " 'Margin of Error; Female: - Natural resources, construction, and maintenance occupations:',\n",
    " 'Estimate; Female: - Natural resources, construction, and maintenance occupations: - Farming, fishing, and forestry occupations',\n",
    " 'Margin of Error; Female: - Natural resources, construction, and maintenance occupations: - Farming, fishing, and forestry occupations',\n",
    " 'Estimate; Female: - Natural resources, construction, and maintenance occupations: - Construction and extraction occupations',\n",
    " 'Margin of Error; Female: - Natural resources, construction, and maintenance occupations: - Construction and extraction occupations',\n",
    " 'Estimate; Female: - Natural resources, construction, and maintenance occupations: - Installation, maintenance, and repair occupations',\n",
    " 'Margin of Error; Female: - Natural resources, construction, and maintenance occupations: - Installation, maintenance, and repair occupations',\n",
    " 'Estimate; Female: - Production, transportation, and material moving occupations:',\n",
    " 'Margin of Error; Female: - Production, transportation, and material moving occupations:',\n",
    " 'Estimate; Female: - Production, transportation, and material moving occupations: - Production occupations',\n",
    " 'Margin of Error; Female: - Production, transportation, and material moving occupations: - Production occupations',\n",
    " 'Estimate; Female: - Production, transportation, and material moving occupations: - Transportation occupations',\n",
    " 'Margin of Error; Female: - Production, transportation, and material moving occupations: - Transportation occupations',\n",
    " 'Estimate; Female: - Production, transportation, and material moving occupations: - Material moving occupations',\n",
    " 'Margin of Error; Female: - Production, transportation, and material moving occupations: - Material moving occupations'])\n",
    "\n",
    "neighborhood_EstimateTotal.head(20)"
   ]
  },
  {
   "cell_type": "markdown",
   "metadata": {},
   "source": [
    "*Here is a look at an estimate of all the men who hold occupations:*"
   ]
  },
  {
   "cell_type": "code",
   "execution_count": 9,
   "metadata": {},
   "outputs": [
    {
     "data": {
      "text/html": [
       "<div>\n",
       "<style scoped>\n",
       "    .dataframe tbody tr th:only-of-type {\n",
       "        vertical-align: middle;\n",
       "    }\n",
       "\n",
       "    .dataframe tbody tr th {\n",
       "        vertical-align: top;\n",
       "    }\n",
       "\n",
       "    .dataframe thead th {\n",
       "        text-align: right;\n",
       "    }\n",
       "</style>\n",
       "<table border=\"1\" class=\"dataframe\">\n",
       "  <thead>\n",
       "    <tr style=\"text-align: right;\">\n",
       "      <th></th>\n",
       "      <th>Neighborhood</th>\n",
       "      <th>Estimate; Male:</th>\n",
       "    </tr>\n",
       "  </thead>\n",
       "  <tbody>\n",
       "    <tr>\n",
       "      <th>0</th>\n",
       "      <td>Allegheny Center</td>\n",
       "      <td>377.0</td>\n",
       "    </tr>\n",
       "    <tr>\n",
       "      <th>1</th>\n",
       "      <td>Allegheny West</td>\n",
       "      <td>133.0</td>\n",
       "    </tr>\n",
       "    <tr>\n",
       "      <th>2</th>\n",
       "      <td>Allentown</td>\n",
       "      <td>283.0</td>\n",
       "    </tr>\n",
       "    <tr>\n",
       "      <th>3</th>\n",
       "      <td>Arlington</td>\n",
       "      <td>480.0</td>\n",
       "    </tr>\n",
       "    <tr>\n",
       "      <th>4</th>\n",
       "      <td>Arlington Heights</td>\n",
       "      <td>0.0</td>\n",
       "    </tr>\n",
       "    <tr>\n",
       "      <th>...</th>\n",
       "      <td>...</td>\n",
       "      <td>...</td>\n",
       "    </tr>\n",
       "    <tr>\n",
       "      <th>86</th>\n",
       "      <td>Upper Lawrenceville</td>\n",
       "      <td>651.0</td>\n",
       "    </tr>\n",
       "    <tr>\n",
       "      <th>87</th>\n",
       "      <td>West End</td>\n",
       "      <td>95.0</td>\n",
       "    </tr>\n",
       "    <tr>\n",
       "      <th>88</th>\n",
       "      <td>West Oakland</td>\n",
       "      <td>154.0</td>\n",
       "    </tr>\n",
       "    <tr>\n",
       "      <th>89</th>\n",
       "      <td>Westwood</td>\n",
       "      <td>906.0</td>\n",
       "    </tr>\n",
       "    <tr>\n",
       "      <th>90</th>\n",
       "      <td>Windgap</td>\n",
       "      <td>355.0</td>\n",
       "    </tr>\n",
       "  </tbody>\n",
       "</table>\n",
       "<p>91 rows × 2 columns</p>\n",
       "</div>"
      ],
      "text/plain": [
       "           Neighborhood  Estimate; Male:\n",
       "0      Allegheny Center            377.0\n",
       "1        Allegheny West            133.0\n",
       "2             Allentown            283.0\n",
       "3             Arlington            480.0\n",
       "4     Arlington Heights              0.0\n",
       "..                  ...              ...\n",
       "86  Upper Lawrenceville            651.0\n",
       "87             West End             95.0\n",
       "88         West Oakland            154.0\n",
       "89             Westwood            906.0\n",
       "90              Windgap            355.0\n",
       "\n",
       "[91 rows x 2 columns]"
      ]
     },
     "execution_count": 9,
     "metadata": {},
     "output_type": "execute_result"
    }
   ],
   "source": [
    "male_Data = data.filter(like='Estimate; Male:')\n",
    "male_Data\n",
    "\n",
    "estimate_male = data[['Neighborhood', 'Estimate; Male:']]\n",
    "estimate_male\n"
   ]
  },
  {
   "cell_type": "markdown",
   "metadata": {},
   "source": [
    "*Now lets look at all the women who hold occupations*"
   ]
  },
  {
   "cell_type": "code",
   "execution_count": 10,
   "metadata": {},
   "outputs": [
    {
     "data": {
      "text/html": [
       "<div>\n",
       "<style scoped>\n",
       "    .dataframe tbody tr th:only-of-type {\n",
       "        vertical-align: middle;\n",
       "    }\n",
       "\n",
       "    .dataframe tbody tr th {\n",
       "        vertical-align: top;\n",
       "    }\n",
       "\n",
       "    .dataframe thead th {\n",
       "        text-align: right;\n",
       "    }\n",
       "</style>\n",
       "<table border=\"1\" class=\"dataframe\">\n",
       "  <thead>\n",
       "    <tr style=\"text-align: right;\">\n",
       "      <th></th>\n",
       "      <th>Neighborhood</th>\n",
       "      <th>Estimate; Female:</th>\n",
       "    </tr>\n",
       "  </thead>\n",
       "  <tbody>\n",
       "    <tr>\n",
       "      <th>0</th>\n",
       "      <td>Allegheny Center</td>\n",
       "      <td>202.0</td>\n",
       "    </tr>\n",
       "    <tr>\n",
       "      <th>1</th>\n",
       "      <td>Allegheny West</td>\n",
       "      <td>88.0</td>\n",
       "    </tr>\n",
       "    <tr>\n",
       "      <th>2</th>\n",
       "      <td>Allentown</td>\n",
       "      <td>558.0</td>\n",
       "    </tr>\n",
       "    <tr>\n",
       "      <th>3</th>\n",
       "      <td>Arlington</td>\n",
       "      <td>511.0</td>\n",
       "    </tr>\n",
       "    <tr>\n",
       "      <th>4</th>\n",
       "      <td>Arlington Heights</td>\n",
       "      <td>80.0</td>\n",
       "    </tr>\n",
       "    <tr>\n",
       "      <th>...</th>\n",
       "      <td>...</td>\n",
       "      <td>...</td>\n",
       "    </tr>\n",
       "    <tr>\n",
       "      <th>86</th>\n",
       "      <td>Upper Lawrenceville</td>\n",
       "      <td>867.0</td>\n",
       "    </tr>\n",
       "    <tr>\n",
       "      <th>87</th>\n",
       "      <td>West End</td>\n",
       "      <td>91.0</td>\n",
       "    </tr>\n",
       "    <tr>\n",
       "      <th>88</th>\n",
       "      <td>West Oakland</td>\n",
       "      <td>502.0</td>\n",
       "    </tr>\n",
       "    <tr>\n",
       "      <th>89</th>\n",
       "      <td>Westwood</td>\n",
       "      <td>892.0</td>\n",
       "    </tr>\n",
       "    <tr>\n",
       "      <th>90</th>\n",
       "      <td>Windgap</td>\n",
       "      <td>340.0</td>\n",
       "    </tr>\n",
       "  </tbody>\n",
       "</table>\n",
       "<p>91 rows × 2 columns</p>\n",
       "</div>"
      ],
      "text/plain": [
       "           Neighborhood  Estimate; Female:\n",
       "0      Allegheny Center              202.0\n",
       "1        Allegheny West               88.0\n",
       "2             Allentown              558.0\n",
       "3             Arlington              511.0\n",
       "4     Arlington Heights               80.0\n",
       "..                  ...                ...\n",
       "86  Upper Lawrenceville              867.0\n",
       "87             West End               91.0\n",
       "88         West Oakland              502.0\n",
       "89             Westwood              892.0\n",
       "90              Windgap              340.0\n",
       "\n",
       "[91 rows x 2 columns]"
      ]
     },
     "execution_count": 10,
     "metadata": {},
     "output_type": "execute_result"
    }
   ],
   "source": [
    "female_Data = data.filter(like='Estimate; Female:')\n",
    "female_Data\n",
    "\n",
    "estimate_female = data[['Neighborhood', 'Estimate; Female:']]\n",
    "estimate_female"
   ]
  },
  {
   "cell_type": "code",
   "execution_count": 11,
   "metadata": {},
   "outputs": [],
   "source": [
    "data.columns.values.tolist()\n",
    "neighborhoodONLY = data.drop(columns=['Id',\n",
    " 'Estimate; Total:',\n",
    " 'Margin of Error; Total:',\n",
    " 'Estimate; Male:',\n",
    " 'Margin of Error; Male:',\n",
    " 'Estimate; Male: - Management, business, science, and arts occupations:',\n",
    " 'Margin of Error; Male: - Management, business, science, and arts occupations:',\n",
    " 'Estimate; Male: - Management, business, science, and arts occupations: - Management, business, and financial occupations:',\n",
    " 'Margin of Error; Male: - Management, business, science, and arts occupations: - Management, business, and financial occupations:',\n",
    " 'Estimate; Male: - Management, business, science, and arts occupations: - Management, business, and financial occupations: - Management occupations',\n",
    " 'Margin of Error; Male: - Management, business, science, and arts occupations: - Management, business, and financial occupations: - Management occupations',\n",
    " 'Estimate; Male: - Management, business, science, and arts occupations: - Management, business, and financial occupations: - Business and financial operations occupations',\n",
    " 'Margin of Error; Male: - Management, business, science, and arts occupations: - Management, business, and financial occupations: - Business and financial operations occupations',\n",
    " 'Estimate; Male: - Management, business, science, and arts occupations: - Computer, engineering, and science occupations:',\n",
    " 'Margin of Error; Male: - Management, business, science, and arts occupations: - Computer, engineering, and science occupations:',\n",
    " 'Estimate; Male: - Management, business, science, and arts occupations: - Computer, engineering, and science occupations: - Computer and mathematical occupations',\n",
    " 'Margin of Error; Male: - Management, business, science, and arts occupations: - Computer, engineering, and science occupations: - Computer and mathematical occupations',\n",
    " 'Estimate; Male: - Management, business, science, and arts occupations: - Computer, engineering, and science occupations: - Architecture and engineering occupations',\n",
    " 'Margin of Error; Male: - Management, business, science, and arts occupations: - Computer, engineering, and science occupations: - Architecture and engineering occupations',\n",
    " 'Estimate; Male: - Management, business, science, and arts occupations: - Computer, engineering, and science occupations: - Life, physical, and social science occupations',\n",
    " 'Margin of Error; Male: - Management, business, science, and arts occupations: - Computer, engineering, and science occupations: - Life, physical, and social science occupations',\n",
    " 'Estimate; Male: - Management, business, science, and arts occupations: - Education, legal, community service, arts, and media occupations:',\n",
    " 'Margin of Error; Male: - Management, business, science, and arts occupations: - Education, legal, community service, arts, and media occupations:',\n",
    " 'Estimate; Male: - Management, business, science, and arts occupations: - Education, legal, community service, arts, and media occupations: - Community and social service occupations',\n",
    " 'Margin of Error; Male: - Management, business, science, and arts occupations: - Education, legal, community service, arts, and media occupations: - Community and social service occupations',\n",
    " 'Estimate; Male: - Management, business, science, and arts occupations: - Education, legal, community service, arts, and media occupations: - Legal occupations',\n",
    " 'Margin of Error; Male: - Management, business, science, and arts occupations: - Education, legal, community service, arts, and media occupations: - Legal occupations',\n",
    " 'Estimate; Male: - Management, business, science, and arts occupations: - Education, legal, community service, arts, and media occupations: - Education, training, and library occupations',\n",
    " 'Margin of Error; Male: - Management, business, science, and arts occupations: - Education, legal, community service, arts, and media occupations: - Education, training, and library occupations',\n",
    " 'Estimate; Male: - Management, business, science, and arts occupations: - Education, legal, community service, arts, and media occupations: - Arts, design, entertainment, sports, and media occupations',\n",
    " 'Margin of Error; Male: - Management, business, science, and arts occupations: - Education, legal, community service, arts, and media occupations: - Arts, design, entertainment, sports, and media occupations',\n",
    " 'Estimate; Male: - Management, business, science, and arts occupations: - Healthcare practitioners and technical occupations:',\n",
    " 'Margin of Error; Male: - Management, business, science, and arts occupations: - Healthcare practitioners and technical occupations:',\n",
    " 'Estimate; Male: - Management, business, science, and arts occupations: - Healthcare practitioners and technical occupations: - Health diagnosing and treating practitioners and other technical occupations',\n",
    " 'Margin of Error; Male: - Management, business, science, and arts occupations: - Healthcare practitioners and technical occupations: - Health diagnosing and treating practitioners and other technical occupations',\n",
    " 'Estimate; Male: - Management, business, science, and arts occupations: - Healthcare practitioners and technical occupations: - Health technologists and technicians',\n",
    " 'Margin of Error; Male: - Management, business, science, and arts occupations: - Healthcare practitioners and technical occupations: - Health technologists and technicians',\n",
    " 'Estimate; Male: - Service occupations:',\n",
    " 'Margin of Error; Male: - Service occupations:',\n",
    " 'Estimate; Male: - Service occupations: - Healthcare support occupations',\n",
    " 'Margin of Error; Male: - Service occupations: - Healthcare support occupations',\n",
    " 'Estimate; Male: - Service occupations: - Protective service occupations:',\n",
    " 'Margin of Error; Male: - Service occupations: - Protective service occupations:',\n",
    " 'Estimate; Male: - Service occupations: - Protective service occupations: - Fire fighting and prevention, and other protective service workers including supervisors',\n",
    " 'Margin of Error; Male: - Service occupations: - Protective service occupations: - Fire fighting and prevention, and other protective service workers including supervisors',\n",
    " 'Estimate; Male: - Service occupations: - Protective service occupations: - Law enforcement workers including supervisors',\n",
    " 'Margin of Error; Male: - Service occupations: - Protective service occupations: - Law enforcement workers including supervisors',\n",
    " 'Estimate; Male: - Service occupations: - Food preparation and serving related occupations',\n",
    " 'Margin of Error; Male: - Service occupations: - Food preparation and serving related occupations',\n",
    " 'Estimate; Male: - Service occupations: - Building and grounds cleaning and maintenance occupations',\n",
    " 'Margin of Error; Male: - Service occupations: - Building and grounds cleaning and maintenance occupations',\n",
    " 'Estimate; Male: - Service occupations: - Personal care and service occupations',\n",
    " 'Margin of Error; Male: - Service occupations: - Personal care and service occupations',\n",
    " 'Estimate; Male: - Sales and office occupations:',\n",
    " 'Margin of Error; Male: - Sales and office occupations:',\n",
    " 'Estimate; Male: - Sales and office occupations: - Sales and related occupations',\n",
    " 'Margin of Error; Male: - Sales and office occupations: - Sales and related occupations',\n",
    " 'Estimate; Male: - Sales and office occupations: - Office and administrative support occupations',\n",
    " 'Margin of Error; Male: - Sales and office occupations: - Office and administrative support occupations',\n",
    " 'Estimate; Male: - Natural resources, construction, and maintenance occupations:',\n",
    " 'Margin of Error; Male: - Natural resources, construction, and maintenance occupations:',\n",
    " 'Estimate; Male: - Natural resources, construction, and maintenance occupations: - Farming, fishing, and forestry occupations',\n",
    " 'Margin of Error; Male: - Natural resources, construction, and maintenance occupations: - Farming, fishing, and forestry occupations',\n",
    " 'Estimate; Male: - Natural resources, construction, and maintenance occupations: - Construction and extraction occupations',\n",
    " 'Margin of Error; Male: - Natural resources, construction, and maintenance occupations: - Construction and extraction occupations',\n",
    " 'Estimate; Male: - Natural resources, construction, and maintenance occupations: - Installation, maintenance, and repair occupations',\n",
    " 'Margin of Error; Male: - Natural resources, construction, and maintenance occupations: - Installation, maintenance, and repair occupations',\n",
    " 'Estimate; Male: - Production, transportation, and material moving occupations:',\n",
    " 'Margin of Error; Male: - Production, transportation, and material moving occupations:',\n",
    " 'Estimate; Male: - Production, transportation, and material moving occupations: - Production occupations',\n",
    " 'Margin of Error; Male: - Production, transportation, and material moving occupations: - Production occupations',\n",
    " 'Estimate; Male: - Production, transportation, and material moving occupations: - Transportation occupations',\n",
    " 'Margin of Error; Male: - Production, transportation, and material moving occupations: - Transportation occupations',\n",
    " 'Estimate; Male: - Production, transportation, and material moving occupations: - Material moving occupations',\n",
    " 'Margin of Error; Male: - Production, transportation, and material moving occupations: - Material moving occupations',\n",
    " 'Estimate; Female:',\n",
    " 'Margin of Error; Female:',\n",
    " 'Estimate; Female: - Management, business, science, and arts occupations:',\n",
    " 'Margin of Error; Female: - Management, business, science, and arts occupations:',\n",
    " 'Estimate; Female: - Management, business, science, and arts occupations: - Management, business, and financial occupations:',\n",
    " 'Margin of Error; Female: - Management, business, science, and arts occupations: - Management, business, and financial occupations:',\n",
    " 'Estimate; Female: - Management, business, science, and arts occupations: - Management, business, and financial occupations: - Management occupations',\n",
    " 'Margin of Error; Female: - Management, business, science, and arts occupations: - Management, business, and financial occupations: - Management occupations',\n",
    " 'Estimate; Female: - Management, business, science, and arts occupations: - Management, business, and financial occupations: - Business and financial operations occupations',\n",
    " 'Margin of Error; Female: - Management, business, science, and arts occupations: - Management, business, and financial occupations: - Business and financial operations occupations',\n",
    " 'Estimate; Female: - Management, business, science, and arts occupations: - Computer, engineering, and science occupations:',\n",
    " 'Margin of Error; Female: - Management, business, science, and arts occupations: - Computer, engineering, and science occupations:',\n",
    " 'Estimate; Female: - Management, business, science, and arts occupations: - Computer, engineering, and science occupations: - Computer and mathematical occupations',\n",
    " 'Margin of Error; Female: - Management, business, science, and arts occupations: - Computer, engineering, and science occupations: - Computer and mathematical occupations',\n",
    " 'Estimate; Female: - Management, business, science, and arts occupations: - Computer, engineering, and science occupations: - Architecture and engineering occupations',\n",
    " 'Margin of Error; Female: - Management, business, science, and arts occupations: - Computer, engineering, and science occupations: - Architecture and engineering occupations',\n",
    " 'Estimate; Female: - Management, business, science, and arts occupations: - Computer, engineering, and science occupations: - Life, physical, and social science occupations',\n",
    " 'Margin of Error; Female: - Management, business, science, and arts occupations: - Computer, engineering, and science occupations: - Life, physical, and social science occupations',\n",
    " 'Estimate; Female: - Management, business, science, and arts occupations: - Education, legal, community service, arts, and media occupations:',\n",
    " 'Margin of Error; Female: - Management, business, science, and arts occupations: - Education, legal, community service, arts, and media occupations:',\n",
    " 'Estimate; Female: - Management, business, science, and arts occupations: - Education, legal, community service, arts, and media occupations: - Community and social service occupations',\n",
    " 'Margin of Error; Female: - Management, business, science, and arts occupations: - Education, legal, community service, arts, and media occupations: - Community and social service occupations',\n",
    " 'Estimate; Female: - Management, business, science, and arts occupations: - Education, legal, community service, arts, and media occupations: - Legal occupations',\n",
    " 'Margin of Error; Female: - Management, business, science, and arts occupations: - Education, legal, community service, arts, and media occupations: - Legal occupations',\n",
    " 'Estimate; Female: - Management, business, science, and arts occupations: - Education, legal, community service, arts, and media occupations: - Education, training, and library occupations',\n",
    " 'Margin of Error; Female: - Management, business, science, and arts occupations: - Education, legal, community service, arts, and media occupations: - Education, training, and library occupations',\n",
    " 'Estimate; Female: - Management, business, science, and arts occupations: - Education, legal, community service, arts, and media occupations: - Arts, design, entertainment, sports, and media occupations',\n",
    " 'Margin of Error; Female: - Management, business, science, and arts occupations: - Education, legal, community service, arts, and media occupations: - Arts, design, entertainment, sports, and media occupations',\n",
    " 'Estimate; Female: - Management, business, science, and arts occupations: - Healthcare practitioners and technical occupations:',\n",
    " 'Margin of Error; Female: - Management, business, science, and arts occupations: - Healthcare practitioners and technical occupations:',\n",
    " 'Estimate; Female: - Management, business, science, and arts occupations: - Healthcare practitioners and technical occupations: - Health diagnosing and treating practitioners and other technical occupations',\n",
    " 'Margin of Error; Female: - Management, business, science, and arts occupations: - Healthcare practitioners and technical occupations: - Health diagnosing and treating practitioners and other technical occupations',\n",
    " 'Estimate; Female: - Management, business, science, and arts occupations: - Healthcare practitioners and technical occupations: - Health technologists and technicians',\n",
    " 'Margin of Error; Female: - Management, business, science, and arts occupations: - Healthcare practitioners and technical occupations: - Health technologists and technicians',\n",
    " 'Estimate; Female: - Service occupations:',\n",
    " 'Margin of Error; Female: - Service occupations:',\n",
    " 'Estimate; Female: - Service occupations: - Healthcare support occupations',\n",
    " 'Margin of Error; Female: - Service occupations: - Healthcare support occupations',\n",
    " 'Estimate; Female: - Service occupations: - Protective service occupations:',\n",
    " 'Margin of Error; Female: - Service occupations: - Protective service occupations:',\n",
    " 'Estimate; Female: - Service occupations: - Protective service occupations: - Fire fighting and prevention, and other protective service workers including supervisors',\n",
    " 'Margin of Error; Female: - Service occupations: - Protective service occupations: - Fire fighting and prevention, and other protective service workers including supervisors',\n",
    " 'Estimate; Female: - Service occupations: - Protective service occupations: - Law enforcement workers including supervisors',\n",
    " 'Margin of Error; Female: - Service occupations: - Protective service occupations: - Law enforcement workers including supervisors',\n",
    " 'Estimate; Female: - Service occupations: - Food preparation and serving related occupations',\n",
    " 'Margin of Error; Female: - Service occupations: - Food preparation and serving related occupations',\n",
    " 'Estimate; Female: - Service occupations: - Building and grounds cleaning and maintenance occupations',\n",
    " 'Margin of Error; Female: - Service occupations: - Building and grounds cleaning and maintenance occupations',\n",
    " 'Estimate; Female: - Service occupations: - Personal care and service occupations',\n",
    " 'Margin of Error; Female: - Service occupations: - Personal care and service occupations',\n",
    " 'Estimate; Female: - Sales and office occupations:',\n",
    " 'Margin of Error; Female: - Sales and office occupations:',\n",
    " 'Estimate; Female: - Sales and office occupations: - Sales and related occupations',\n",
    " 'Margin of Error; Female: - Sales and office occupations: - Sales and related occupations',\n",
    " 'Estimate; Female: - Sales and office occupations: - Office and administrative support occupations',\n",
    " 'Margin of Error; Female: - Sales and office occupations: - Office and administrative support occupations',\n",
    " 'Estimate; Female: - Natural resources, construction, and maintenance occupations:',\n",
    " 'Margin of Error; Female: - Natural resources, construction, and maintenance occupations:',\n",
    " 'Estimate; Female: - Natural resources, construction, and maintenance occupations: - Farming, fishing, and forestry occupations',\n",
    " 'Margin of Error; Female: - Natural resources, construction, and maintenance occupations: - Farming, fishing, and forestry occupations',\n",
    " 'Estimate; Female: - Natural resources, construction, and maintenance occupations: - Construction and extraction occupations',\n",
    " 'Margin of Error; Female: - Natural resources, construction, and maintenance occupations: - Construction and extraction occupations',\n",
    " 'Estimate; Female: - Natural resources, construction, and maintenance occupations: - Installation, maintenance, and repair occupations',\n",
    " 'Margin of Error; Female: - Natural resources, construction, and maintenance occupations: - Installation, maintenance, and repair occupations',\n",
    " 'Estimate; Female: - Production, transportation, and material moving occupations:',\n",
    " 'Margin of Error; Female: - Production, transportation, and material moving occupations:',\n",
    " 'Estimate; Female: - Production, transportation, and material moving occupations: - Production occupations',\n",
    " 'Margin of Error; Female: - Production, transportation, and material moving occupations: - Production occupations',\n",
    " 'Estimate; Female: - Production, transportation, and material moving occupations: - Transportation occupations',\n",
    " 'Margin of Error; Female: - Production, transportation, and material moving occupations: - Transportation occupations',\n",
    " 'Estimate; Female: - Production, transportation, and material moving occupations: - Material moving occupations',\n",
    " 'Margin of Error; Female: - Production, transportation, and material moving occupations: - Material moving occupations'])"
   ]
  },
  {
   "cell_type": "markdown",
   "metadata": {},
   "source": [
    "*For the sake of time, I wont go over the percentage of men in occupations because I drew my conclusions based off of the percentage of females in occupations*"
   ]
  },
  {
   "cell_type": "code",
   "execution_count": 12,
   "metadata": {},
   "outputs": [
    {
     "data": {
      "text/html": [
       "<div>\n",
       "<style scoped>\n",
       "    .dataframe tbody tr th:only-of-type {\n",
       "        vertical-align: middle;\n",
       "    }\n",
       "\n",
       "    .dataframe tbody tr th {\n",
       "        vertical-align: top;\n",
       "    }\n",
       "\n",
       "    .dataframe thead th {\n",
       "        text-align: right;\n",
       "    }\n",
       "</style>\n",
       "<table border=\"1\" class=\"dataframe\">\n",
       "  <thead>\n",
       "    <tr style=\"text-align: right;\">\n",
       "      <th></th>\n",
       "      <th>Neighborhood</th>\n",
       "      <th>Percentage of Female</th>\n",
       "    </tr>\n",
       "  </thead>\n",
       "  <tbody>\n",
       "    <tr>\n",
       "      <th>0</th>\n",
       "      <td>Allegheny Center</td>\n",
       "      <td>34.887737</td>\n",
       "    </tr>\n",
       "    <tr>\n",
       "      <th>1</th>\n",
       "      <td>Allegheny West</td>\n",
       "      <td>39.819005</td>\n",
       "    </tr>\n",
       "    <tr>\n",
       "      <th>2</th>\n",
       "      <td>Allentown</td>\n",
       "      <td>66.349584</td>\n",
       "    </tr>\n",
       "    <tr>\n",
       "      <th>3</th>\n",
       "      <td>Arlington</td>\n",
       "      <td>51.564077</td>\n",
       "    </tr>\n",
       "    <tr>\n",
       "      <th>4</th>\n",
       "      <td>Arlington Heights</td>\n",
       "      <td>100.000000</td>\n",
       "    </tr>\n",
       "    <tr>\n",
       "      <th>5</th>\n",
       "      <td>Banksville</td>\n",
       "      <td>50.435866</td>\n",
       "    </tr>\n",
       "    <tr>\n",
       "      <th>6</th>\n",
       "      <td>Bedford Dwellings</td>\n",
       "      <td>56.854839</td>\n",
       "    </tr>\n",
       "    <tr>\n",
       "      <th>7</th>\n",
       "      <td>Beechview</td>\n",
       "      <td>43.153732</td>\n",
       "    </tr>\n",
       "    <tr>\n",
       "      <th>8</th>\n",
       "      <td>Beltzhoover</td>\n",
       "      <td>51.732102</td>\n",
       "    </tr>\n",
       "    <tr>\n",
       "      <th>9</th>\n",
       "      <td>Bloomfield</td>\n",
       "      <td>48.085339</td>\n",
       "    </tr>\n",
       "  </tbody>\n",
       "</table>\n",
       "</div>"
      ],
      "text/plain": [
       "        Neighborhood  Percentage of Female\n",
       "0   Allegheny Center             34.887737\n",
       "1     Allegheny West             39.819005\n",
       "2          Allentown             66.349584\n",
       "3          Arlington             51.564077\n",
       "4  Arlington Heights            100.000000\n",
       "5         Banksville             50.435866\n",
       "6  Bedford Dwellings             56.854839\n",
       "7          Beechview             43.153732\n",
       "8        Beltzhoover             51.732102\n",
       "9         Bloomfield             48.085339"
      ]
     },
     "execution_count": 12,
     "metadata": {},
     "output_type": "execute_result"
    }
   ],
   "source": [
    "percentage_female = (((data['Estimate; Female:'] / data['Estimate; Total:']) * 100))\n",
    "df_female = pd.DataFrame(percentage_female, columns=['Percentage of Female'])\n",
    "df_neighborhood_female = neighborhoodONLY.copy()\n",
    "df_neighborhood_female.insert(1, 'Percentage of Female', percentage_female)\n",
    "df_neighborhood_female.head(10)"
   ]
  },
  {
   "cell_type": "markdown",
   "metadata": {},
   "source": [
    "*Here is a graph for better readability*"
   ]
  },
  {
   "cell_type": "code",
   "execution_count": 13,
   "metadata": {},
   "outputs": [
    {
     "data": {
      "image/png": "[encoded data removed]",
      "text/plain": [
       "<Figure size 2880x720 with 1 Axes>"
      ]
     },
     "metadata": {
      "needs_background": "light"
     },
     "output_type": "display_data"
    }
   ],
   "source": [
    "graph_of_Percentage_Female = df_neighborhood_female.iloc[0:30].plot.bar(x='Neighborhood', y='Percentage of Female', figsize=(40,10))"
   ]
  },
  {
   "cell_type": "code",
   "execution_count": 14,
   "metadata": {},
   "outputs": [
    {
     "data": {
      "text/plain": [
       "52    49.505766\n",
       "89    49.610679\n",
       "15    49.876210\n",
       "46    50.354191\n",
       "5     50.435866\n",
       "36    50.903270\n",
       "48    51.008969\n",
       "55    51.397849\n",
       "26    51.470588\n",
       "3     51.564077\n",
       "66    51.595745\n",
       "8     51.732102\n",
       "56    52.051048\n",
       "69    52.100457\n",
       "33    52.163651\n",
       "38    52.198853\n",
       "34    52.426412\n",
       "29    52.905812\n",
       "20    52.916667\n",
       "81    52.968750\n",
       "Name: Percentage of Female, dtype: float64"
      ]
     },
     "execution_count": 14,
     "metadata": {},
     "output_type": "execute_result"
    }
   ],
   "source": [
    "sorted_df = df_neighborhood_female['Percentage of Female'].sort_values(ascending=True)\n",
    "final_sorted = sorted_df.iloc[36:56]\n",
    "final_sorted"
   ]
  },
  {
   "cell_type": "code",
   "execution_count": 15,
   "metadata": {},
   "outputs": [
    {
     "data": {
      "image/png": "[encoded data removed]",
      "text/plain": [
       "<Figure size 720x720 with 1 Axes>"
      ]
     },
     "metadata": {
      "needs_background": "light"
     },
     "output_type": "display_data"
    }
   ],
   "source": [
    "graph_of_Final = final_sorted.plot.bar(x='Neighborhood', y='Percentage of Female', figsize=(10,10))"
   ]
  },
  {
   "cell_type": "markdown",
   "metadata": {},
   "source": [
    " "
   ]
  },
  {
   "cell_type": "markdown",
   "metadata": {},
   "source": [
    "# *The* Best Neighborhood"
   ]
  },
  {
   "cell_type": "markdown",
   "metadata": {},
   "source": [
    "Out of the top twenty neighborhoods in each individual section we tested, there was only one commonality: **Regent Square**. This combination of low crime rate, well rounded educational opportunities for those students who require more and less from the curriculum offered, and a balanced workforce makes Regent Square the best neighborhood in Pittsburgh. "
   ]
  },
  {
   "cell_type": "markdown",
   "metadata": {},
   "source": [
    "# Conclusion:"
   ]
  },
  {
   "cell_type": "markdown",
   "metadata": {},
   "source": [
    "**Ruchira Nimmagadda**: Our metrics for determining the \"best\" neighborhood were slightly biased to the \"best\" in terms of living there. When deciding my personal favorite neighborhood, I am not considered living there at all. Therefore, my personal factors for determining a neighborhood are vastly different to those that we chose as a group. Some factors I considered were quantity of good restaurants, available activities, and overall beauty. My personal favorite neighborhood, decided during my limited time in Pittsburgh, is Squirrel Hill. "
   ]
  },
  {
   "cell_type": "markdown",
   "metadata": {},
   "source": [
    "**Anandhi Narayan**: As someone who grew up in Pittsburgh, I'm biased towards my own neighborhood as my favorite. Mt. Lebanon is a great neighborhood, with many small shops and restaurants, and even a small movie theater that is currently being rebuilt by everyone in the community. I can easily speak about how close knit and accepting the community is, while also being an incredibly safe area: all of which are aspects noted within Regent Square."
   ]
  },
  {
   "cell_type": "markdown",
   "metadata": {},
   "source": [
    "**Pearl Singer**: I chose Carrick, Pittsburgh Pennslyvania because my metric was based off of the most equal amount of both women and men who held jobs. Carrick was 49.8762% women which means it was 50.1238% men. This was the closest neighborhood to an even split of 50/50, men and women who are working and over the age of 16."
   ]
  }
 ],
 "metadata": {
  "kernelspec": {
   "display_name": "Python 3",
   "language": "python",
   "name": "python3"
  },
  "language_info": {
   "codemirror_mode": {
    "name": "ipython",
    "version": 3
   },
   "file_extension": ".py",
   "mimetype": "text/x-python",
   "name": "python",
   "nbconvert_exporter": "python",
   "pygments_lexer": "ipython3",
   "version": "3.8.3"
  }
 },
 "nbformat": 4,
 "nbformat_minor": 4
}

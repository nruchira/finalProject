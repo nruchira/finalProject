{
 "cells": [
  {
   "cell_type": "markdown",
   "metadata": {},
   "source": [
    "# Crime in Each Neighborhood"
   ]
  },
  {
   "cell_type": "markdown",
   "metadata": {},
   "source": [
    "Crime, as in safety, is often a large factor affecting many other things in the ecosystem of a neighborhood. Crime rates give lots of insight into the overall quality of life in a neighborhood. Here, we have data about the crimes in Pittsburgh neighborhoods during the past seven years. "
   ]
  },
  {
   "cell_type": "markdown",
   "metadata": {},
   "source": [
    "### Lets breakdown this data!\n",
    "\n",
    "First, we are going to get rid of all of the pesky, unnecessary information."
   ]
  },
  {
   "cell_type": "code",
   "execution_count": 41,
   "metadata": {},
   "outputs": [
    {
     "data": {
      "text/html": [
       "<div>\n",
       "<style scoped>\n",
       "    .dataframe tbody tr th:only-of-type {\n",
       "        vertical-align: middle;\n",
       "    }\n",
       "\n",
       "    .dataframe tbody tr th {\n",
       "        vertical-align: top;\n",
       "    }\n",
       "\n",
       "    .dataframe thead th {\n",
       "        text-align: right;\n",
       "    }\n",
       "</style>\n",
       "<table border=\"1\" class=\"dataframe\">\n",
       "  <thead>\n",
       "    <tr style=\"text-align: right;\">\n",
       "      <th></th>\n",
       "      <th>INCIDENTTIME</th>\n",
       "      <th>INCIDENTNEIGHBORHOOD</th>\n",
       "    </tr>\n",
       "    <tr>\n",
       "      <th>_id</th>\n",
       "      <th></th>\n",
       "      <th></th>\n",
       "    </tr>\n",
       "  </thead>\n",
       "  <tbody>\n",
       "    <tr>\n",
       "      <th>1</th>\n",
       "      <td>2016-01-01T00:00:00</td>\n",
       "      <td>North Shore</td>\n",
       "    </tr>\n",
       "    <tr>\n",
       "      <th>2</th>\n",
       "      <td>2016-01-01T00:01:00</td>\n",
       "      <td>Upper Lawrenceville</td>\n",
       "    </tr>\n",
       "    <tr>\n",
       "      <th>3</th>\n",
       "      <td>2016-01-01T00:10:00</td>\n",
       "      <td>Northview Heights</td>\n",
       "    </tr>\n",
       "    <tr>\n",
       "      <th>4</th>\n",
       "      <td>2016-01-01T00:15:00</td>\n",
       "      <td>Golden Triangle/Civic Arena</td>\n",
       "    </tr>\n",
       "    <tr>\n",
       "      <th>5</th>\n",
       "      <td>2016-01-01T00:16:00</td>\n",
       "      <td>Northview Heights</td>\n",
       "    </tr>\n",
       "    <tr>\n",
       "      <th>6</th>\n",
       "      <td>2016-01-01T00:24:00</td>\n",
       "      <td>South Side Flats</td>\n",
       "    </tr>\n",
       "    <tr>\n",
       "      <th>7</th>\n",
       "      <td>2016-01-01T00:44:00</td>\n",
       "      <td>Elliott</td>\n",
       "    </tr>\n",
       "    <tr>\n",
       "      <th>8</th>\n",
       "      <td>2016-01-01T00:45:00</td>\n",
       "      <td>South Side Flats</td>\n",
       "    </tr>\n",
       "    <tr>\n",
       "      <th>9</th>\n",
       "      <td>2016-01-01T00:55:00</td>\n",
       "      <td>Homewood North</td>\n",
       "    </tr>\n",
       "    <tr>\n",
       "      <th>10</th>\n",
       "      <td>2016-01-01T01:00:00</td>\n",
       "      <td>South Side Slopes</td>\n",
       "    </tr>\n",
       "  </tbody>\n",
       "</table>\n",
       "</div>"
      ],
      "text/plain": [
       "            INCIDENTTIME         INCIDENTNEIGHBORHOOD\n",
       "_id                                                  \n",
       "1    2016-01-01T00:00:00                  North Shore\n",
       "2    2016-01-01T00:01:00          Upper Lawrenceville\n",
       "3    2016-01-01T00:10:00            Northview Heights\n",
       "4    2016-01-01T00:15:00  Golden Triangle/Civic Arena\n",
       "5    2016-01-01T00:16:00            Northview Heights\n",
       "6    2016-01-01T00:24:00             South Side Flats\n",
       "7    2016-01-01T00:44:00                      Elliott\n",
       "8    2016-01-01T00:45:00             South Side Flats\n",
       "9    2016-01-01T00:55:00               Homewood North\n",
       "10   2016-01-01T01:00:00            South Side Slopes"
      ]
     },
     "execution_count": 41,
     "metadata": {},
     "output_type": "execute_result"
    }
   ],
   "source": [
    "import pandas as pd\n",
    "\n",
    "raw_data = pd.read_csv(\"crime.csv\",  index_col=\"_id\")\n",
    "\n",
    "data = raw_data.drop(columns=['X', 'Y', 'PUBLIC_WORKS_DIVISION', 'HIERARCHY', 'COUNCIL_DISTRICT', 'INCIDENTTRACT', 'OFFENSES', 'INCIDENTZONE', 'INCIDENTLOCATION', 'CLEAREDFLAG', 'INCIDENTHIERARCHYDESC', 'CCR', 'PK'])\n",
    "data.head(10)"
   ]
  },
  {
   "cell_type": "code",
   "execution_count": 37,
   "metadata": {},
   "outputs": [
    {
     "data": {
      "text/plain": [
       "array(['North Shore', 'Upper Lawrenceville', 'Northview Heights',\n",
       "       'Golden Triangle/Civic Arena', 'South Side Flats', 'Elliott',\n",
       "       'Homewood North', 'South Side Slopes', 'Carrick', 'South Oakland',\n",
       "       nan, 'Bloomfield', 'Beechview', 'Bluff', 'Strip District',\n",
       "       'Mount Washington', 'East Carnegie', 'Crafton Heights',\n",
       "       'Marshall-Shadeland', 'East Liberty', 'East Allegheny',\n",
       "       'Friendship', 'Arlington', 'Central Northside',\n",
       "       'Spring Hill-City View', 'Brighton Heights', 'Westwood',\n",
       "       'East Hills', 'Brookline', 'South Shore', 'Lower Lawrenceville',\n",
       "       'Bedford Dwellings', 'Troy Hill-Herrs Island', 'Central Oakland',\n",
       "       'Garfield', 'West End', 'West Oakland', 'Central Lawrenceville',\n",
       "       'Lincoln-Lemington-Belmar', 'Sheraden', 'Beltzhoover',\n",
       "       'Outside City', 'Squirrel Hill South', 'North Oakland',\n",
       "       'Allentown', 'Perry North', 'Homewood South', 'Shadyside',\n",
       "       'Manchester', 'Squirrel Hill North', 'Regent Square',\n",
       "       'Homewood West', 'Allegheny Center', 'Highland Park',\n",
       "       'Middle Hill', 'Overbrook', 'Hazelwood', 'Greenfield',\n",
       "       'Morningside', 'Knoxville', 'Point Breeze', 'Duquesne Heights',\n",
       "       'Perry South', 'California-Kirkbride', 'Banksville',\n",
       "       'Point Breeze North', 'Bon Air', 'Polish Hill', 'Lincoln Place',\n",
       "       'Fineview', 'Spring Garden', 'Larimer', 'Esplen',\n",
       "       'Terrace Village', 'Allegheny West', 'Crawford-Roberts', 'Windgap',\n",
       "       'Stanton Heights', 'Glen Hazel', 'Upper Hill', 'Hays', 'Ridgemont',\n",
       "       'Oakwood', 'Outside State', 'Chateau', 'Swisshelm Park',\n",
       "       'Outside County', 'Fairywood', 'Chartiers City',\n",
       "       'Arlington Heights', 'St. Clair', 'Summer Hill',\n",
       "       'Mt. Oliver Neighborhood', 'New Homestead', 'Mt. Oliver Boro',\n",
       "       'Central Business District', 'Troy Hill', 'Central North Side',\n",
       "       'Mount Oliver'], dtype=object)"
      ]
     },
     "execution_count": 37,
     "metadata": {},
     "output_type": "execute_result"
    }
   ],
   "source": [
    "data['INCIDENTNEIGHBORHOOD'].unique()"
   ]
  },
  {
   "cell_type": "code",
   "execution_count": 38,
   "metadata": {},
   "outputs": [
    {
     "data": {
      "text/plain": [
       "Central Business District    19258\n",
       "South Side Flats             18604\n",
       "Carrick                      11637\n",
       "Shadyside                     8537\n",
       "Bloomfield                    8520\n",
       "                             ...  \n",
       "Ridgemont                      292\n",
       "Troy Hill-Herrs Island         252\n",
       "Outside County                 242\n",
       "Mt. Oliver Neighborhood        117\n",
       "Mt. Oliver Boro                 98\n",
       "Name: INCIDENTNEIGHBORHOOD, Length: 98, dtype: int64"
      ]
     },
     "execution_count": 38,
     "metadata": {},
     "output_type": "execute_result"
    }
   ],
   "source": [
    "incident_count = data['INCIDENTNEIGHBORHOOD'].value_counts()\n",
    "incident_count"
   ]
  },
  {
   "cell_type": "code",
   "execution_count": 39,
   "metadata": {},
   "outputs": [
    {
     "data": {
      "text/plain": [
       "3322.530612244898"
      ]
     },
     "execution_count": 39,
     "metadata": {},
     "output_type": "execute_result"
    }
   ],
   "source": [
    "incident_count.mean()"
   ]
  },
  {
   "cell_type": "code",
   "execution_count": 40,
   "metadata": {},
   "outputs": [
    {
     "data": {
      "text/plain": [
       "325608"
      ]
     },
     "execution_count": 40,
     "metadata": {},
     "output_type": "execute_result"
    }
   ],
   "source": [
    "incident_count.sum()"
   ]
  },
  {
   "cell_type": "code",
   "execution_count": null,
   "metadata": {},
   "outputs": [],
   "source": []
  }
 ],
 "metadata": {
  "kernelspec": {
   "display_name": "Python 3",
   "language": "python",
   "name": "python3"
  },
  "language_info": {
   "codemirror_mode": {
    "name": "ipython",
    "version": 3
   },
   "file_extension": ".py",
   "mimetype": "text/x-python",
   "name": "python",
   "nbconvert_exporter": "python",
   "pygments_lexer": "ipython3",
   "version": "3.8.3"
  }
 },
 "nbformat": 4,
 "nbformat_minor": 4
}

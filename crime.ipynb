{
 "cells": [
  {
   "cell_type": "markdown",
   "metadata": {},
   "source": [
    "# Crime in Each Neighborhood"
   ]
  },
  {
   "cell_type": "markdown",
   "metadata": {},
   "source": [
    "Crime, as in safety, is often a large factor affecting many other things in the ecosystem of a neighborhood. Crime rates give lots of insight into the overall quality of life in a neighborhood. Here, we have data about the crimes in Pittsburgh neighborhoods during the past seven years. "
   ]
  },
  {
   "cell_type": "markdown",
   "metadata": {},
   "source": [
    "### Lets breakdown this data!\n",
    "\n",
    "First, we are going to get rid of all of the pesky, unnecessary information."
   ]
  },
  {
   "cell_type": "code",
   "execution_count": 12,
   "metadata": {},
   "outputs": [
    {
     "data": {
      "text/html": [
       "<div>\n",
       "<style scoped>\n",
       "    .dataframe tbody tr th:only-of-type {\n",
       "        vertical-align: middle;\n",
       "    }\n",
       "\n",
       "    .dataframe tbody tr th {\n",
       "        vertical-align: top;\n",
       "    }\n",
       "\n",
       "    .dataframe thead th {\n",
       "        text-align: right;\n",
       "    }\n",
       "</style>\n",
       "<table border=\"1\" class=\"dataframe\">\n",
       "  <thead>\n",
       "    <tr style=\"text-align: right;\">\n",
       "      <th></th>\n",
       "      <th>INCIDENTNEIGHBORHOOD</th>\n",
       "    </tr>\n",
       "    <tr>\n",
       "      <th>_id</th>\n",
       "      <th></th>\n",
       "    </tr>\n",
       "  </thead>\n",
       "  <tbody>\n",
       "    <tr>\n",
       "      <th>1</th>\n",
       "      <td>North Shore</td>\n",
       "    </tr>\n",
       "    <tr>\n",
       "      <th>2</th>\n",
       "      <td>Upper Lawrenceville</td>\n",
       "    </tr>\n",
       "    <tr>\n",
       "      <th>3</th>\n",
       "      <td>Northview Heights</td>\n",
       "    </tr>\n",
       "    <tr>\n",
       "      <th>4</th>\n",
       "      <td>Golden Triangle/Civic Arena</td>\n",
       "    </tr>\n",
       "    <tr>\n",
       "      <th>5</th>\n",
       "      <td>Northview Heights</td>\n",
       "    </tr>\n",
       "    <tr>\n",
       "      <th>6</th>\n",
       "      <td>South Side Flats</td>\n",
       "    </tr>\n",
       "    <tr>\n",
       "      <th>7</th>\n",
       "      <td>Elliott</td>\n",
       "    </tr>\n",
       "    <tr>\n",
       "      <th>8</th>\n",
       "      <td>South Side Flats</td>\n",
       "    </tr>\n",
       "    <tr>\n",
       "      <th>9</th>\n",
       "      <td>Homewood North</td>\n",
       "    </tr>\n",
       "    <tr>\n",
       "      <th>10</th>\n",
       "      <td>South Side Slopes</td>\n",
       "    </tr>\n",
       "  </tbody>\n",
       "</table>\n",
       "</div>"
      ],
      "text/plain": [
       "            INCIDENTNEIGHBORHOOD\n",
       "_id                             \n",
       "1                    North Shore\n",
       "2            Upper Lawrenceville\n",
       "3              Northview Heights\n",
       "4    Golden Triangle/Civic Arena\n",
       "5              Northview Heights\n",
       "6               South Side Flats\n",
       "7                        Elliott\n",
       "8               South Side Flats\n",
       "9                 Homewood North\n",
       "10             South Side Slopes"
      ]
     },
     "execution_count": 12,
     "metadata": {},
     "output_type": "execute_result"
    }
   ],
   "source": [
    "import pandas as pd\n",
    "\n",
    "raw_data = pd.read_csv(\"crime.csv\",  index_col=\"_id\")\n",
    "\n",
    "data = raw_data.drop(columns=['X', 'Y', 'INCIDENTTIME', 'PUBLIC_WORKS_DIVISION', 'HIERARCHY', 'COUNCIL_DISTRICT', 'INCIDENTTRACT', 'OFFENSES', 'INCIDENTZONE', 'INCIDENTLOCATION', 'CLEAREDFLAG', 'INCIDENTHIERARCHYDESC', 'CCR', 'PK'])\n",
    "data.head(10)"
   ]
  },
  {
   "cell_type": "markdown",
   "metadata": {},
   "source": [
    "Now we've condensed this data to allow us to focus on the neighborhood that each incident occured in. Next, let's see how many incidents have occured in each neighborhood. "
   ]
  },
  {
   "cell_type": "code",
   "execution_count": 13,
   "metadata": {},
   "outputs": [
    {
     "data": {
      "text/plain": [
       "Mt. Oliver Boro                 98\n",
       "Mt. Oliver Neighborhood        117\n",
       "Outside County                 242\n",
       "Troy Hill-Herrs Island         252\n",
       "Ridgemont                      292\n",
       "                             ...  \n",
       "Bloomfield                    8520\n",
       "Shadyside                     8537\n",
       "Carrick                      11637\n",
       "South Side Flats             18604\n",
       "Central Business District    19258\n",
       "Name: INCIDENTNEIGHBORHOOD, Length: 98, dtype: int64"
      ]
     },
     "execution_count": 13,
     "metadata": {},
     "output_type": "execute_result"
    }
   ],
   "source": [
    "incident_count = data['INCIDENTNEIGHBORHOOD'].value_counts().sort_values(ascending=True)\n",
    "incident_count"
   ]
  },
  {
   "cell_type": "markdown",
   "metadata": {},
   "source": [
    "Remember, these counts are telling us the total amount of recorded incidents in that neighborhood over the past seven years. Lets look at the average in each neighborhood per year: "
   ]
  },
  {
   "cell_type": "code",
   "execution_count": 14,
   "metadata": {},
   "outputs": [
    {
     "data": {
      "text/plain": [
       "Mt. Oliver Boro                14.000000\n",
       "Mt. Oliver Neighborhood        16.714286\n",
       "Outside County                 34.571429\n",
       "Troy Hill-Herrs Island         36.000000\n",
       "Ridgemont                      41.714286\n",
       "                                ...     \n",
       "Bloomfield                   1217.142857\n",
       "Shadyside                    1219.571429\n",
       "Carrick                      1662.428571\n",
       "South Side Flats             2657.714286\n",
       "Central Business District    2751.142857\n",
       "Name: INCIDENTNEIGHBORHOOD, Length: 98, dtype: float64"
      ]
     },
     "execution_count": 14,
     "metadata": {},
     "output_type": "execute_result"
    }
   ],
   "source": [
    "per_year = incident_count/7\n",
    "per_year"
   ]
  },
  {
   "cell_type": "markdown",
   "metadata": {},
   "source": [
    "Lets look at the average:"
   ]
  },
  {
   "cell_type": "markdown",
   "metadata": {},
   "source": [
    "Pennsylvania has 2,559 towns/neighborhoods and on average 247,190 crimes per year in total, meaning that the average number of crimes per neighborhood would be:"
   ]
  },
  {
   "cell_type": "code",
   "execution_count": 1,
   "metadata": {},
   "outputs": [
    {
     "data": {
      "text/plain": [
       "96.59632669011333"
      ]
     },
     "execution_count": 1,
     "metadata": {},
     "output_type": "execute_result"
    }
   ],
   "source": [
    "247190/2559 "
   ]
  },
  {
   "cell_type": "markdown",
   "metadata": {},
   "source": [
    "Looking back at the data of incidents per neighborhood per year above, we can determine that the Top 5 \"safest\" neighborhoods are Mt. Oliver Boro, Mt. Oliver Neighborhood, Outside County, Troy Hill-Herrs Island, and Ridgemont. Their incidents per year are the lowest out of all of the Pittsburgh neighborhoods in this data set, and are also the lowest compared to the Pennsylvania average crimes per year. "
   ]
  },
  {
   "cell_type": "code",
   "execution_count": null,
   "metadata": {},
   "outputs": [],
   "source": []
  }
 ],
 "metadata": {
  "kernelspec": {
   "display_name": "Python 3",
   "language": "python",
   "name": "python3"
  },
  "language_info": {
   "codemirror_mode": {
    "name": "ipython",
    "version": 3
   },
   "file_extension": ".py",
   "mimetype": "text/x-python",
   "name": "python",
   "nbconvert_exporter": "python",
   "pygments_lexer": "ipython3",
   "version": "3.8.3"
  }
 },
 "nbformat": 4,
 "nbformat_minor": 4
}
